{
  "nbformat": 4,
  "nbformat_minor": 0,
  "metadata": {
    "colab": {
      "provenance": [],
      "authorship_tag": "ABX9TyPjDYF3XMucOPu+0hSBmerO",
      "include_colab_link": true
    },
    "kernelspec": {
      "name": "python3",
      "display_name": "Python 3"
    },
    "language_info": {
      "name": "python"
    }
  },
  "cells": [
    {
      "cell_type": "markdown",
      "metadata": {
        "id": "view-in-github",
        "colab_type": "text"
      },
      "source": [
        "<a href=\"https://colab.research.google.com/github/ufbfung/clinterm/blob/main/terminology_development.ipynb\" target=\"_parent\"><img src=\"https://colab.research.google.com/assets/colab-badge.svg\" alt=\"Open In Colab\"/></a>"
      ]
    },
    {
      "cell_type": "code",
      "execution_count": 4,
      "metadata": {
        "id": "KoMH4w9nJoaE"
      },
      "outputs": [],
      "source": [
        "# Notebook will be used for demonstrating examples of how to use all the different pieces within the terminology package.\n",
        "\n",
        "# Plan to use clinterm as term"
      ]
    },
    {
      "cell_type": "markdown",
      "source": [
        "# Setup environment"
      ],
      "metadata": {
        "id": "nfo_WfOIOx1-"
      }
    },
    {
      "cell_type": "markdown",
      "source": [
        "## Import relevant libraries\n",
        "These will eventually go into a requirements.txt when deployed into pypi."
      ],
      "metadata": {
        "id": "L-pub4VXO0Vw"
      }
    },
    {
      "cell_type": "code",
      "source": [
        "# Import relevant libraries\n",
        "# These will eventually go into a requirements.txt once ready\n",
        "\n",
        "import os # for working with directories\n",
        "import requests # for working with apis\n",
        "import json # for working with apis\n",
        "import pandas as pd # for working with dataframes\n",
        "import numpy as np # for working with arrays\n",
        "import matplotlib.pyplot as plt # for plotting\n",
        "import seaborn as sns # for plotting\n",
        "import plotly.express as px"
      ],
      "metadata": {
        "id": "gxT1xRbYMo_j"
      },
      "execution_count": 8,
      "outputs": []
    },
    {
      "cell_type": "markdown",
      "source": [
        "## Mount google drive\n",
        "This section is primarily for development where all the files associated with development will be hosted on a personal google drive for easier access."
      ],
      "metadata": {
        "id": "Ds9UhTpQO89p"
      }
    },
    {
      "cell_type": "code",
      "source": [
        "# Mount google drive\n",
        "from google.colab import drive\n",
        "drive.mount('/content/drive')\n",
        "\n",
        "# Set paths\n",
        "root_path = '/content/drive/My Drive/coding/clinterm'\n",
        "\n",
        "# Change working directory to clinterm package\n",
        "%cd {root_path}"
      ],
      "metadata": {
        "colab": {
          "base_uri": "https://localhost:8080/"
        },
        "id": "VAj6rv2eN2LM",
        "outputId": "1de9fcf4-68dd-47bb-c527-b7e61892a622"
      },
      "execution_count": 9,
      "outputs": [
        {
          "output_type": "stream",
          "name": "stdout",
          "text": [
            "Drive already mounted at /content/drive; to attempt to forcibly remount, call drive.mount(\"/content/drive\", force_remount=True).\n",
            "/content/drive/My Drive/coding/clinterm\n"
          ]
        }
      ]
    },
    {
      "cell_type": "markdown",
      "source": [
        "## Define helper functions\n",
        "This section will eventually turn into a global utils package that can be used across all the terminologies, especially for managing api calls."
      ],
      "metadata": {
        "id": "sb9G6ia7PJFE"
      }
    },
    {
      "cell_type": "code",
      "source": [
        "# Helper functions that will be used across apis\n",
        "# Define them here for now and eventually move them into its own separate location\n",
        "\n",
        "%%writefile helperfunctions.py\n",
        "# Write your Python code here\n",
        "def print_function():\n",
        "  print(\"Hello, world2!\")"
      ],
      "metadata": {
        "colab": {
          "base_uri": "https://localhost:8080/"
        },
        "id": "Isn-DQW7MZXT",
        "outputId": "6de30012-808a-4f01-e221-7206ee889062"
      },
      "execution_count": 15,
      "outputs": [
        {
          "output_type": "stream",
          "name": "stdout",
          "text": [
            "Writing helperfunctions.py\n"
          ]
        }
      ]
    },
    {
      "cell_type": "code",
      "source": [
        "import helperfunctions as hf\n",
        "\n",
        "hf.print_function()"
      ],
      "metadata": {
        "colab": {
          "base_uri": "https://localhost:8080/"
        },
        "id": "vYPcY4tKOlrY",
        "outputId": "ba4c506b-4112-4a93-9f32-a984e3fd4a1d"
      },
      "execution_count": 18,
      "outputs": [
        {
          "output_type": "stream",
          "name": "stdout",
          "text": [
            "Hello, world2!\n"
          ]
        }
      ]
    },
    {
      "cell_type": "markdown",
      "source": [
        "# Terminology development\n",
        "This section will be used to develop the different APIs that will be used for working with the different terminologies"
      ],
      "metadata": {
        "id": "EaDOnxrxPX0N"
      }
    },
    {
      "cell_type": "markdown",
      "source": [
        "## NDC\n",
        "This will use the APIs from openFDA to retrieve information related to medications."
      ],
      "metadata": {
        "id": "XiSg9KrtPflt"
      }
    },
    {
      "cell_type": "code",
      "source": [
        "pip search term"
      ],
      "metadata": {
        "colab": {
          "base_uri": "https://localhost:8080/"
        },
        "id": "Olk96eOYLbdI",
        "outputId": "6fc9273c-8042-4602-83e4-9db5a3ed2758"
      },
      "execution_count": 1,
      "outputs": [
        {
          "output_type": "stream",
          "name": "stdout",
          "text": [
            "\u001b[31mERROR: XMLRPC request failed [code: -32500]\n",
            "RuntimeError: PyPI no longer supports 'pip search' (or XML-RPC search). Please use https://pypi.org/search (via a browser) instead. See https://warehouse.pypa.io/api-reference/xml-rpc.html#deprecated-methods for more information.\u001b[0m\u001b[31m\n",
            "\u001b[0m"
          ]
        }
      ]
    }
  ]
}