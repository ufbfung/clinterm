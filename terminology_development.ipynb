{
  "nbformat": 4,
  "nbformat_minor": 0,
  "metadata": {
    "colab": {
      "provenance": [],
      "include_colab_link": true
    },
    "kernelspec": {
      "name": "python3",
      "display_name": "Python 3"
    },
    "language_info": {
      "name": "python"
    }
  },
  "cells": [
    {
      "cell_type": "markdown",
      "metadata": {
        "id": "view-in-github",
        "colab_type": "text"
      },
      "source": [
        "<a href=\"https://colab.research.google.com/github/ufbfung/clinterm/blob/main/terminology_development.ipynb\" target=\"_parent\"><img src=\"https://colab.research.google.com/assets/colab-badge.svg\" alt=\"Open In Colab\"/></a>"
      ]
    },
    {
      "cell_type": "code",
      "execution_count": 1,
      "metadata": {
        "id": "KoMH4w9nJoaE"
      },
      "outputs": [],
      "source": [
        "# Notebook will be used for demonstrating examples of how to use all the different pieces within the terminology package.\n",
        "\n",
        "# Plan to use clinterm as term"
      ]
    },
    {
      "cell_type": "markdown",
      "source": [
        "# Setup environment"
      ],
      "metadata": {
        "id": "nfo_WfOIOx1-"
      }
    },
    {
      "cell_type": "markdown",
      "source": [
        "## Import relevant libraries\n",
        "These will eventually go into a requirements.txt when deployed into pypi."
      ],
      "metadata": {
        "id": "L-pub4VXO0Vw"
      }
    },
    {
      "cell_type": "code",
      "source": [
        "# Import relevant libraries\n",
        "# These will eventually go into a requirements.txt once ready\n",
        "\n",
        "import os # for working with directories\n",
        "import requests # for working with apis\n",
        "import json # for working with apis\n",
        "import pandas as pd # for working with dataframes\n",
        "import numpy as np # for working with arrays\n",
        "import matplotlib.pyplot as plt # for plotting\n",
        "import seaborn as sns # for plotting\n",
        "import plotly.express as px"
      ],
      "metadata": {
        "id": "gxT1xRbYMo_j"
      },
      "execution_count": 2,
      "outputs": []
    },
    {
      "cell_type": "markdown",
      "source": [
        "## Mount google drive\n",
        "This section is primarily for development where all the files associated with development will be hosted on a personal google drive for easier access."
      ],
      "metadata": {
        "id": "Ds9UhTpQO89p"
      }
    },
    {
      "cell_type": "code",
      "source": [
        "# Mount google drive\n",
        "from google.colab import drive\n",
        "drive.mount('/content/drive')\n",
        "\n",
        "# Set paths\n",
        "root_path = '/content/drive/My Drive/coding/clinterm'\n",
        "\n",
        "# Change working directory to clinterm package\n",
        "%cd {root_path}"
      ],
      "metadata": {
        "colab": {
          "base_uri": "https://localhost:8080/"
        },
        "id": "VAj6rv2eN2LM",
        "outputId": "e04e42b5-f099-4a2e-96bb-d3f9e161b93e"
      },
      "execution_count": 4,
      "outputs": [
        {
          "output_type": "stream",
          "name": "stdout",
          "text": [
            "Drive already mounted at /content/drive; to attempt to forcibly remount, call drive.mount(\"/content/drive\", force_remount=True).\n",
            "/content/drive/My Drive/coding/clinterm\n"
          ]
        }
      ]
    },
    {
      "cell_type": "markdown",
      "source": [
        "## Define helper functions\n",
        "This section will eventually turn into a global utils package that can be used across all the terminologies, especially for managing api calls."
      ],
      "metadata": {
        "id": "sb9G6ia7PJFE"
      }
    },
    {
      "cell_type": "markdown",
      "source": [
        "### Define helper functions as part of notebook for now until we are ready to export helperfunctions"
      ],
      "metadata": {
        "id": "n4Cn9aejRcE5"
      }
    },
    {
      "cell_type": "code",
      "source": [
        "def api_request(url, headers=None, params=None):\n",
        "    try:\n",
        "        response = requests.get(url, headers=headers, params=params)\n",
        "        response.raise_for_status() # Raise an exception for unsuccessful responses\n",
        "        data = response.json() # if i want to convert to df earlier\n",
        "        results = data['results'] # if i want to convert to df earlier\n",
        "        df = pd.json_normalize(results)  # Flatten the nested JSON response\n",
        "        return df # if i want to convert to df earlier\n",
        "        # return response.json()\n",
        "    except requests.exceptions.RequestException as e:\n",
        "        print(f\"An error occurred during the API request: {e}\")\n",
        "        return None\n",
        "\n",
        "def retrieve_terminology_info(terminology, code):\n",
        "    base_url = f'https://api.example.com/{terminology}/v1/search'\n",
        "    query = f'{base_url}?code={code}'\n",
        "\n",
        "    response_data = make_api_request(query)\n",
        "    if response_data:\n",
        "        # Process the response data for the specific terminology\n",
        "        pass\n",
        "    else:\n",
        "        print(f\"No data found for code: {code}\")\n",
        "\n",
        "def check_base_urls(base_urls):\n",
        "    print(\"Checking the status of all APIs currently active in clinterm\")\n",
        "    print(\"------------------------------------------------------------\")\n",
        "\n",
        "    for base_url in base_urls:\n",
        "        print(f\"\\nChecking API: {base_url}\")\n",
        "        response = requests.get(base_url)\n",
        "        if response.status_code == 200:\n",
        "            print(\"API is available.\")\n",
        "        else:\n",
        "            print(f\"API is not available. Status code: {response.status_code}\")"
      ],
      "metadata": {
        "id": "b576-WCvRhTJ"
      },
      "execution_count": 5,
      "outputs": []
    },
    {
      "cell_type": "markdown",
      "source": [
        "### Export the helperfunctions into its own Python program\n",
        "Will use this once we're ready to begin exporting"
      ],
      "metadata": {
        "id": "3vkwqHPLRTlk"
      }
    },
    {
      "cell_type": "code",
      "source": [
        "# Helper functions that will be used across apis\n",
        "# Define them here for now and eventually move them into its own separate location\n",
        "\n",
        "%%writefile helperfunctions.py\n",
        "# Write your Python code here\n",
        "def print_function():\n",
        "  print(\"Hello, world2!\")"
      ],
      "metadata": {
        "colab": {
          "base_uri": "https://localhost:8080/"
        },
        "id": "Isn-DQW7MZXT",
        "outputId": "05cb22e7-77fc-4261-b439-dd0a1c4c5fd6"
      },
      "execution_count": 6,
      "outputs": [
        {
          "output_type": "stream",
          "name": "stdout",
          "text": [
            "Writing helperfunctions.py\n"
          ]
        }
      ]
    },
    {
      "cell_type": "code",
      "source": [
        "import helperfunctions as hf\n",
        "\n",
        "hf.print_function()"
      ],
      "metadata": {
        "colab": {
          "base_uri": "https://localhost:8080/"
        },
        "id": "vYPcY4tKOlrY",
        "outputId": "465e5607-ddaa-4ee3-88fa-ee6eb22590e5"
      },
      "execution_count": 7,
      "outputs": [
        {
          "output_type": "stream",
          "name": "stdout",
          "text": [
            "Hello, world2!\n"
          ]
        }
      ]
    },
    {
      "cell_type": "markdown",
      "source": [
        "# Terminology development\n",
        "This section will be used to develop the different APIs that will be used for working with the different terminologies"
      ],
      "metadata": {
        "id": "EaDOnxrxPX0N"
      }
    },
    {
      "cell_type": "markdown",
      "source": [
        "## Endpoint availability\n",
        "Before working with these APIs, we're going to begin by checking the status of every API endpoint to ensure it hasn't changed and that they are all available"
      ],
      "metadata": {
        "id": "-58us83nTetg"
      }
    },
    {
      "cell_type": "code",
      "source": [
        "# Check all available APIs\n",
        "# This section will eventually be stored as a variable, maybe environmental variable that will be referenced somewhere else\n",
        "base_urls = [\n",
        "    'https://api.fda.gov/drug/event.json',\n",
        "    'https://api.fda.gov/drug/ndc.json',\n",
        "    'https://fhir.loinc.org'\n",
        "]\n",
        "\n",
        "check_base_urls(base_urls)"
      ],
      "metadata": {
        "colab": {
          "base_uri": "https://localhost:8080/"
        },
        "id": "cZXMtcBFToMx",
        "outputId": "65cfba72-7a87-4afb-953a-59bb2bcc81b4"
      },
      "execution_count": null,
      "outputs": [
        {
          "output_type": "stream",
          "name": "stdout",
          "text": [
            "Checking the status of all APIs currently active in clinterm\n",
            "------------------------------------------------------------\n",
            "\n",
            "Checking API: https://api.fda.gov/drug/event.json\n",
            "API is available.\n",
            "\n",
            "Checking API: https://api.fda.gov/drug/ndc.json\n",
            "API is available.\n",
            "\n",
            "Checking API: https://fhir.loinc.org\n",
            "API is available.\n"
          ]
        }
      ]
    },
    {
      "cell_type": "markdown",
      "source": [
        "## NDC\n",
        "This will use the APIs from openFDA to retrieve information related to medications."
      ],
      "metadata": {
        "id": "XiSg9KrtPflt"
      }
    },
    {
      "cell_type": "code",
      "source": [
        "query = 'https://api.fda.gov/drug/ndc.json?search=dosage_form:%22LOTION%22&limit=1'\n",
        "api_request(query)"
      ],
      "metadata": {
        "colab": {
          "base_uri": "https://localhost:8080/",
          "height": 243
        },
        "id": "Olk96eOYLbdI",
        "outputId": "e3eb8bd4-56c0-48a6-bf07-befb3375adb3"
      },
      "execution_count": 8,
      "outputs": [
        {
          "output_type": "execute_result",
          "data": {
            "text/plain": [
              "  product_ndc                                     generic_name  \\\n",
              "0   74690-006  AVOBENZONE, OCTINOXATE, OCTOCRYLENE, HOMOSALATE   \n",
              "\n",
              "     labeler_name                                         brand_name  \\\n",
              "0  Farmasi US LLC  Dr. C. Tuna Sunscreen 50 SPF UVA UVB Protectio...   \n",
              "\n",
              "                                  active_ingredients  finished  \\\n",
              "0  [{'name': 'AVOBENZONE', 'strength': '25 mg/mL'...      True   \n",
              "\n",
              "                                           packaging listing_expiration_date  \\\n",
              "0  [{'package_ndc': '74690-006-01', 'description'...                20231231   \n",
              "\n",
              "        marketing_category dosage_form  ...    product_type      route  \\\n",
              "0  OTC MONOGRAPH NOT FINAL      LOTION  ...  HUMAN OTC DRUG  [TOPICAL]   \n",
              "\n",
              "  marketing_start_date                                      product_id  \\\n",
              "0             20200108  74690-006_adf7234a-4e01-321f-e053-2995a90a5616   \n",
              "\n",
              "  application_number                                    brand_name_base  \\\n",
              "0            part352  Dr. C. Tuna Sunscreen 50 SPF UVA UVB Protectio...   \n",
              "\n",
              "  openfda.manufacturer_name                      openfda.spl_set_id  \\\n",
              "0          [Farmasi US LLC]  [27fdbd2b-60de-4906-a176-5c5198d9925b]   \n",
              "\n",
              "  openfda.is_original_packager  \\\n",
              "0                       [True]   \n",
              "\n",
              "                                       openfda.unii  \n",
              "0  [G63QQF2NOX, V06SV4M95S, 4Y5P7MUD51, 5A68WGF6WM]  \n",
              "\n",
              "[1 rows x 21 columns]"
            ],
            "text/html": [
              "\n",
              "  <div id=\"df-0706a4fa-9880-4119-84a1-79b2b92a4005\">\n",
              "    <div class=\"colab-df-container\">\n",
              "      <div>\n",
              "<style scoped>\n",
              "    .dataframe tbody tr th:only-of-type {\n",
              "        vertical-align: middle;\n",
              "    }\n",
              "\n",
              "    .dataframe tbody tr th {\n",
              "        vertical-align: top;\n",
              "    }\n",
              "\n",
              "    .dataframe thead th {\n",
              "        text-align: right;\n",
              "    }\n",
              "</style>\n",
              "<table border=\"1\" class=\"dataframe\">\n",
              "  <thead>\n",
              "    <tr style=\"text-align: right;\">\n",
              "      <th></th>\n",
              "      <th>product_ndc</th>\n",
              "      <th>generic_name</th>\n",
              "      <th>labeler_name</th>\n",
              "      <th>brand_name</th>\n",
              "      <th>active_ingredients</th>\n",
              "      <th>finished</th>\n",
              "      <th>packaging</th>\n",
              "      <th>listing_expiration_date</th>\n",
              "      <th>marketing_category</th>\n",
              "      <th>dosage_form</th>\n",
              "      <th>...</th>\n",
              "      <th>product_type</th>\n",
              "      <th>route</th>\n",
              "      <th>marketing_start_date</th>\n",
              "      <th>product_id</th>\n",
              "      <th>application_number</th>\n",
              "      <th>brand_name_base</th>\n",
              "      <th>openfda.manufacturer_name</th>\n",
              "      <th>openfda.spl_set_id</th>\n",
              "      <th>openfda.is_original_packager</th>\n",
              "      <th>openfda.unii</th>\n",
              "    </tr>\n",
              "  </thead>\n",
              "  <tbody>\n",
              "    <tr>\n",
              "      <th>0</th>\n",
              "      <td>74690-006</td>\n",
              "      <td>AVOBENZONE, OCTINOXATE, OCTOCRYLENE, HOMOSALATE</td>\n",
              "      <td>Farmasi US LLC</td>\n",
              "      <td>Dr. C. Tuna Sunscreen 50 SPF UVA UVB Protectio...</td>\n",
              "      <td>[{'name': 'AVOBENZONE', 'strength': '25 mg/mL'...</td>\n",
              "      <td>True</td>\n",
              "      <td>[{'package_ndc': '74690-006-01', 'description'...</td>\n",
              "      <td>20231231</td>\n",
              "      <td>OTC MONOGRAPH NOT FINAL</td>\n",
              "      <td>LOTION</td>\n",
              "      <td>...</td>\n",
              "      <td>HUMAN OTC DRUG</td>\n",
              "      <td>[TOPICAL]</td>\n",
              "      <td>20200108</td>\n",
              "      <td>74690-006_adf7234a-4e01-321f-e053-2995a90a5616</td>\n",
              "      <td>part352</td>\n",
              "      <td>Dr. C. Tuna Sunscreen 50 SPF UVA UVB Protectio...</td>\n",
              "      <td>[Farmasi US LLC]</td>\n",
              "      <td>[27fdbd2b-60de-4906-a176-5c5198d9925b]</td>\n",
              "      <td>[True]</td>\n",
              "      <td>[G63QQF2NOX, V06SV4M95S, 4Y5P7MUD51, 5A68WGF6WM]</td>\n",
              "    </tr>\n",
              "  </tbody>\n",
              "</table>\n",
              "<p>1 rows × 21 columns</p>\n",
              "</div>\n",
              "      <button class=\"colab-df-convert\" onclick=\"convertToInteractive('df-0706a4fa-9880-4119-84a1-79b2b92a4005')\"\n",
              "              title=\"Convert this dataframe to an interactive table.\"\n",
              "              style=\"display:none;\">\n",
              "        \n",
              "  <svg xmlns=\"http://www.w3.org/2000/svg\" height=\"24px\"viewBox=\"0 0 24 24\"\n",
              "       width=\"24px\">\n",
              "    <path d=\"M0 0h24v24H0V0z\" fill=\"none\"/>\n",
              "    <path d=\"M18.56 5.44l.94 2.06.94-2.06 2.06-.94-2.06-.94-.94-2.06-.94 2.06-2.06.94zm-11 1L8.5 8.5l.94-2.06 2.06-.94-2.06-.94L8.5 2.5l-.94 2.06-2.06.94zm10 10l.94 2.06.94-2.06 2.06-.94-2.06-.94-.94-2.06-.94 2.06-2.06.94z\"/><path d=\"M17.41 7.96l-1.37-1.37c-.4-.4-.92-.59-1.43-.59-.52 0-1.04.2-1.43.59L10.3 9.45l-7.72 7.72c-.78.78-.78 2.05 0 2.83L4 21.41c.39.39.9.59 1.41.59.51 0 1.02-.2 1.41-.59l7.78-7.78 2.81-2.81c.8-.78.8-2.07 0-2.86zM5.41 20L4 18.59l7.72-7.72 1.47 1.35L5.41 20z\"/>\n",
              "  </svg>\n",
              "      </button>\n",
              "      \n",
              "  <style>\n",
              "    .colab-df-container {\n",
              "      display:flex;\n",
              "      flex-wrap:wrap;\n",
              "      gap: 12px;\n",
              "    }\n",
              "\n",
              "    .colab-df-convert {\n",
              "      background-color: #E8F0FE;\n",
              "      border: none;\n",
              "      border-radius: 50%;\n",
              "      cursor: pointer;\n",
              "      display: none;\n",
              "      fill: #1967D2;\n",
              "      height: 32px;\n",
              "      padding: 0 0 0 0;\n",
              "      width: 32px;\n",
              "    }\n",
              "\n",
              "    .colab-df-convert:hover {\n",
              "      background-color: #E2EBFA;\n",
              "      box-shadow: 0px 1px 2px rgba(60, 64, 67, 0.3), 0px 1px 3px 1px rgba(60, 64, 67, 0.15);\n",
              "      fill: #174EA6;\n",
              "    }\n",
              "\n",
              "    [theme=dark] .colab-df-convert {\n",
              "      background-color: #3B4455;\n",
              "      fill: #D2E3FC;\n",
              "    }\n",
              "\n",
              "    [theme=dark] .colab-df-convert:hover {\n",
              "      background-color: #434B5C;\n",
              "      box-shadow: 0px 1px 3px 1px rgba(0, 0, 0, 0.15);\n",
              "      filter: drop-shadow(0px 1px 2px rgba(0, 0, 0, 0.3));\n",
              "      fill: #FFFFFF;\n",
              "    }\n",
              "  </style>\n",
              "\n",
              "      <script>\n",
              "        const buttonEl =\n",
              "          document.querySelector('#df-0706a4fa-9880-4119-84a1-79b2b92a4005 button.colab-df-convert');\n",
              "        buttonEl.style.display =\n",
              "          google.colab.kernel.accessAllowed ? 'block' : 'none';\n",
              "\n",
              "        async function convertToInteractive(key) {\n",
              "          const element = document.querySelector('#df-0706a4fa-9880-4119-84a1-79b2b92a4005');\n",
              "          const dataTable =\n",
              "            await google.colab.kernel.invokeFunction('convertToInteractive',\n",
              "                                                     [key], {});\n",
              "          if (!dataTable) return;\n",
              "\n",
              "          const docLinkHtml = 'Like what you see? Visit the ' +\n",
              "            '<a target=\"_blank\" href=https://colab.research.google.com/notebooks/data_table.ipynb>data table notebook</a>'\n",
              "            + ' to learn more about interactive tables.';\n",
              "          element.innerHTML = '';\n",
              "          dataTable['output_type'] = 'display_data';\n",
              "          await google.colab.output.renderOutput(dataTable, element);\n",
              "          const docLink = document.createElement('div');\n",
              "          docLink.innerHTML = docLinkHtml;\n",
              "          element.appendChild(docLink);\n",
              "        }\n",
              "      </script>\n",
              "    </div>\n",
              "  </div>\n",
              "  "
            ]
          },
          "metadata": {},
          "execution_count": 8
        }
      ]
    },
    {
      "cell_type": "code",
      "source": [
        "# Function that will retrieve general information about a specific NDC\n",
        "def get_druginfo_from_ndc(ndcs, limit=5):\n",
        "  ndc_url = 'https://api.fda.gov/drug/ndc.json?search=' # {api_key}&search=' # Add this when we're ready to include API key\n",
        "  query = 'product_ndc:(' + '+OR+'.join(['\"' + ndc + '\"' for ndc in ndcs]) + ')' + f'&limit={limit}'\n",
        "  print(query)\n",
        "  #print(ndc_url + query)\n",
        "  df = api_request(ndc_url + query)\n",
        "  columns_to_extract = ['generic_name', 'brand_name', 'product_ndc', 'dosage_form', 'product_type', 'packaging']\n",
        "  df = df[columns_to_extract]\n",
        "  for index, row in df.iterrows():\n",
        "    ndc = row['product_ndc']\n",
        "    print('product_ndc:', ndc)\n",
        "    print('package ndc:', row['packaging'][0]['package_ndc'])\n",
        "    print('generic name(s):', row['generic_name'])\n",
        "    print('brand name(s):', row['brand_name'])\n",
        "    print('dosage form:', row['dosage_form'])\n",
        "    print('product type:', row['product_type'])\n",
        "    print()\n",
        "\n",
        "# ndcs = ['76385-128','66794-209']\n",
        "ndcs = ['76385-158','66794-209']\n",
        "get_druginfo_from_ndc(ndcs)"
      ],
      "metadata": {
        "id": "pwjcJeafPaBq",
        "outputId": "6a2a58a0-90f6-4b4e-bc22-a08b0e622bb9",
        "colab": {
          "base_uri": "https://localhost:8080/"
        }
      },
      "execution_count": 63,
      "outputs": [
        {
          "output_type": "stream",
          "name": "stdout",
          "text": [
            "product_ndc:(\"76385-158\"+OR+\"66794-209\")&limit=5\n",
            "product_ndc: 66794-209\n",
            "package ndc: 66794-209-41\n",
            "generic name(s): Cefepime\n",
            "brand name(s): Cefepime\n",
            "dosage form: INJECTION, POWDER, FOR SOLUTION\n",
            "product type: HUMAN PRESCRIPTION DRUG\n",
            "\n"
          ]
        }
      ]
    },
    {
      "cell_type": "code",
      "source": [
        "# This is used to build a function that will allow code validation\n",
        "\n",
        "def validate_ndc_codes(ndcs):\n",
        "    invalid_ndcs = []  # List to store invalid NDC values\n",
        "    ndc_url = 'https://api.fda.gov/drug/ndc.json?search='\n",
        "    for ndc in ndcs:\n",
        "        try:\n",
        "            url = ndc_url + ndc\n",
        "            print(url)\n",
        "            response = requests.get(url)\n",
        "            response.raise_for_status()  # Raise an exception for unsuccessful responses\n",
        "        except requests.exceptions.RequestException as e:\n",
        "            print(f\"An error occurred during the API request for NDC '{ndc}': {e}\")\n",
        "            invalid_ndcs.append(ndc)  # Add the invalid NDC to the list\n",
        "\n",
        "    return invalid_ndcs\n",
        "\n",
        "ndcs = ['76385-158','66794-209']\n",
        "validate_ndc_codes(ndcs)"
      ],
      "metadata": {
        "id": "KtHlSBVsbNp7",
        "outputId": "7d0dbf79-ced8-43fa-d0aa-1ff3a0ff91fd",
        "colab": {
          "base_uri": "https://localhost:8080/"
        }
      },
      "execution_count": 59,
      "outputs": [
        {
          "output_type": "stream",
          "name": "stdout",
          "text": [
            "https://api.fda.gov/drug/ndc.json?search=76385-158\n",
            "https://api.fda.gov/drug/ndc.json?search=66794-209\n"
          ]
        },
        {
          "output_type": "execute_result",
          "data": {
            "text/plain": [
              "[]"
            ]
          },
          "metadata": {},
          "execution_count": 59
        }
      ]
    }
  ]
}